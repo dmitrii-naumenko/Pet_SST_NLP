{
 "cells": [
  {
   "cell_type": "code",
   "execution_count": 3,
   "metadata": {},
   "outputs": [
    {
     "name": "stderr",
     "output_type": "stream",
     "text": [
      "/Users/dima/Desktop/Work_folder/Data_Science/Work/Pet_SST_NLP/Pet_SST_NLP-repo.nosync/venv/lib/python3.11/site-packages/tqdm/auto.py:21: TqdmWarning: IProgress not found. Please update jupyter and ipywidgets. See https://ipywidgets.readthedocs.io/en/stable/user_install.html\n",
      "  from .autonotebook import tqdm as notebook_tqdm\n"
     ]
    }
   ],
   "source": [
    "from typing import List\n",
    "\n",
    "from tqdm.auto import tqdm\n",
    "import requests\n",
    "import json\n",
    "import pandas as pd\n",
    "import numpy as np\n",
    "from sklearn.model_selection import train_test_split"
   ]
  },
  {
   "cell_type": "markdown",
   "metadata": {},
   "source": [
    "# Подготовка датасета"
   ]
  },
  {
   "cell_type": "markdown",
   "metadata": {},
   "source": [
    "# Загрузка данных"
   ]
  },
  {
   "cell_type": "code",
   "execution_count": 49,
   "metadata": {},
   "outputs": [],
   "source": [
    "df = pd.read_csv('../data/disaster_tweets.csv')"
   ]
  },
  {
   "cell_type": "code",
   "execution_count": 50,
   "metadata": {},
   "outputs": [
    {
     "data": {
      "text/html": [
       "<div>\n",
       "<style scoped>\n",
       "    .dataframe tbody tr th:only-of-type {\n",
       "        vertical-align: middle;\n",
       "    }\n",
       "\n",
       "    .dataframe tbody tr th {\n",
       "        vertical-align: top;\n",
       "    }\n",
       "\n",
       "    .dataframe thead th {\n",
       "        text-align: right;\n",
       "    }\n",
       "</style>\n",
       "<table border=\"1\" class=\"dataframe\">\n",
       "  <thead>\n",
       "    <tr style=\"text-align: right;\">\n",
       "      <th></th>\n",
       "      <th>id</th>\n",
       "      <th>keyword</th>\n",
       "      <th>location</th>\n",
       "      <th>text</th>\n",
       "      <th>target</th>\n",
       "    </tr>\n",
       "  </thead>\n",
       "  <tbody>\n",
       "    <tr>\n",
       "      <th>0</th>\n",
       "      <td>1</td>\n",
       "      <td>NaN</td>\n",
       "      <td>NaN</td>\n",
       "      <td>Our Deeds are the Reason of this #earthquake M...</td>\n",
       "      <td>1</td>\n",
       "    </tr>\n",
       "    <tr>\n",
       "      <th>1</th>\n",
       "      <td>4</td>\n",
       "      <td>NaN</td>\n",
       "      <td>NaN</td>\n",
       "      <td>Forest fire near La Ronge Sask. Canada</td>\n",
       "      <td>1</td>\n",
       "    </tr>\n",
       "    <tr>\n",
       "      <th>2</th>\n",
       "      <td>5</td>\n",
       "      <td>NaN</td>\n",
       "      <td>NaN</td>\n",
       "      <td>All residents asked to 'shelter in place' are ...</td>\n",
       "      <td>1</td>\n",
       "    </tr>\n",
       "    <tr>\n",
       "      <th>3</th>\n",
       "      <td>6</td>\n",
       "      <td>NaN</td>\n",
       "      <td>NaN</td>\n",
       "      <td>13,000 people receive #wildfires evacuation or...</td>\n",
       "      <td>1</td>\n",
       "    </tr>\n",
       "    <tr>\n",
       "      <th>4</th>\n",
       "      <td>7</td>\n",
       "      <td>NaN</td>\n",
       "      <td>NaN</td>\n",
       "      <td>Just got sent this photo from Ruby #Alaska as ...</td>\n",
       "      <td>1</td>\n",
       "    </tr>\n",
       "  </tbody>\n",
       "</table>\n",
       "</div>"
      ],
      "text/plain": [
       "   id keyword location                                               text  \\\n",
       "0   1     NaN      NaN  Our Deeds are the Reason of this #earthquake M...   \n",
       "1   4     NaN      NaN             Forest fire near La Ronge Sask. Canada   \n",
       "2   5     NaN      NaN  All residents asked to 'shelter in place' are ...   \n",
       "3   6     NaN      NaN  13,000 people receive #wildfires evacuation or...   \n",
       "4   7     NaN      NaN  Just got sent this photo from Ruby #Alaska as ...   \n",
       "\n",
       "   target  \n",
       "0       1  \n",
       "1       1  \n",
       "2       1  \n",
       "3       1  \n",
       "4       1  "
      ]
     },
     "execution_count": 50,
     "metadata": {},
     "output_type": "execute_result"
    }
   ],
   "source": [
    "df.head()"
   ]
  },
  {
   "cell_type": "code",
   "execution_count": 51,
   "metadata": {},
   "outputs": [
    {
     "data": {
      "text/plain": [
       "target\n",
       "0    4342\n",
       "1    3271\n",
       "Name: count, dtype: int64"
      ]
     },
     "execution_count": 51,
     "metadata": {},
     "output_type": "execute_result"
    }
   ],
   "source": [
    "df.target.value_counts()"
   ]
  },
  {
   "cell_type": "markdown",
   "metadata": {},
   "source": [
    "В исходном датасете почти нет дисбаланса... ну ладно, не будет усложнять задачу"
   ]
  },
  {
   "cell_type": "code",
   "execution_count": 52,
   "metadata": {},
   "outputs": [],
   "source": [
    "df = df[['text', 'target']].drop_duplicates()\n",
    "df['text'] = df.text.str.replace('#', ' ') # убираем хеш-теги, у нас \"устная\" речь"
   ]
  },
  {
   "cell_type": "markdown",
   "metadata": {},
   "source": [
    "# Переведем на русский"
   ]
  },
  {
   "cell_type": "code",
   "execution_count": 89,
   "metadata": {},
   "outputs": [
    {
     "data": {
      "text/plain": [
       "102258"
      ]
     },
     "execution_count": 89,
     "metadata": {},
     "output_type": "execute_result"
    }
   ],
   "source": [
    "np.random.seed(42)\n",
    "\n",
    "# ограничим 1000 строк, а то дорого (15$ за 1М символов)\n",
    "df_1000 = df.sample(1000).reset_index(drop=True)\n",
    "df_1000.text.str.len().sum()"
   ]
  },
  {
   "cell_type": "code",
   "execution_count": 79,
   "metadata": {},
   "outputs": [],
   "source": [
    "with open('../secrets/yandex-traslate-apikey.txt', 'r') as file:\n",
    "    apikey = file.read().replace('\\n', '')\n",
    "\n",
    "def yandex_translate(texts: List[str]) -> List[str]:\n",
    "  url = \"https://translate.api.cloud.yandex.net/translate/v2/translate\"\n",
    "\n",
    "  payload = json.dumps(\n",
    "      {\n",
    "    \"sourceLanguageCode\": \"en\",\n",
    "    \"targetLanguageCode\": \"ru\",\n",
    "    \"format\": \"PLAIN_TEXT\",\n",
    "    \"texts\": texts,\n",
    "    \"glossaryConfig\": {\n",
    "      \"glossaryData\": {\n",
    "        \"glossaryPairs\": [      ]\n",
    "      }\n",
    "    },\n",
    "    \"speller\": True\n",
    "  }\n",
    "      )\n",
    "\n",
    "  headers = {\n",
    "    'Authorization': f'Api-Key {apikey}',\n",
    "    'Content-Type': 'text/plain'\n",
    "  }\n",
    "\n",
    "  response = requests.request(\"POST\", url, headers=headers, data=payload)\n",
    "\n",
    "  return [x['text'] for x in response.json()['translations']]"
   ]
  },
  {
   "cell_type": "code",
   "execution_count": 94,
   "metadata": {},
   "outputs": [
    {
     "name": "stdout",
     "output_type": "stream",
     "text": [
      "1 of 20\n",
      "2 of 20\n",
      "3 of 20\n",
      "4 of 20\n",
      "5 of 20\n",
      "6 of 20\n",
      "7 of 20\n",
      "8 of 20\n",
      "9 of 20\n",
      "10 of 20\n",
      "11 of 20\n",
      "12 of 20\n",
      "13 of 20\n",
      "14 of 20\n",
      "15 of 20\n",
      "16 of 20\n",
      "17 of 20\n",
      "18 of 20\n",
      "19 of 20\n",
      "20 of 20\n",
      "(1000, 3)\n"
     ]
    },
    {
     "data": {
      "text/html": [
       "<div>\n",
       "<style scoped>\n",
       "    .dataframe tbody tr th:only-of-type {\n",
       "        vertical-align: middle;\n",
       "    }\n",
       "\n",
       "    .dataframe tbody tr th {\n",
       "        vertical-align: top;\n",
       "    }\n",
       "\n",
       "    .dataframe thead th {\n",
       "        text-align: right;\n",
       "    }\n",
       "</style>\n",
       "<table border=\"1\" class=\"dataframe\">\n",
       "  <thead>\n",
       "    <tr style=\"text-align: right;\">\n",
       "      <th></th>\n",
       "      <th>text</th>\n",
       "      <th>target</th>\n",
       "      <th>text_ru</th>\n",
       "    </tr>\n",
       "  </thead>\n",
       "  <tbody>\n",
       "    <tr>\n",
       "      <th>0</th>\n",
       "      <td>Doing Giveaway Music Kit Dren Death's Head Dem...</td>\n",
       "      <td>0</td>\n",
       "      <td>Разыгрываю бесплатный музыкальный набор Dren D...</td>\n",
       "    </tr>\n",
       "    <tr>\n",
       "      <th>1</th>\n",
       "      <td>IDFire Parker Ridge Fact Sheet Aug 6 2015 (Pa...</td>\n",
       "      <td>1</td>\n",
       "      <td>Информационный бюллетень ID Fire Parker Ridg...</td>\n",
       "    </tr>\n",
       "    <tr>\n",
       "      <th>2</th>\n",
       "      <td>Vacation update: my great aunt just killed a s...</td>\n",
       "      <td>1</td>\n",
       "      <td>Обновление из отпуска: моя двоюродная бабушка ...</td>\n",
       "    </tr>\n",
       "    <tr>\n",
       "      <th>3</th>\n",
       "      <td>The Flash And The Thunder by WC Quick on Amazo...</td>\n",
       "      <td>0</td>\n",
       "      <td>\"Вспышка и гром\" от WC Quick на Amazon Kindle ...</td>\n",
       "    </tr>\n",
       "    <tr>\n",
       "      <th>4</th>\n",
       "      <td>Morgan Silver Dollar 1880 S Gem BU DMPL Cameo ...</td>\n",
       "      <td>0</td>\n",
       "      <td>Морган Серебряный доллар 1880-х годов Драгоцен...</td>\n",
       "    </tr>\n",
       "  </tbody>\n",
       "</table>\n",
       "</div>"
      ],
      "text/plain": [
       "                                                text  target  \\\n",
       "0  Doing Giveaway Music Kit Dren Death's Head Dem...       0   \n",
       "1   IDFire Parker Ridge Fact Sheet Aug 6 2015 (Pa...       1   \n",
       "2  Vacation update: my great aunt just killed a s...       1   \n",
       "3  The Flash And The Thunder by WC Quick on Amazo...       0   \n",
       "4  Morgan Silver Dollar 1880 S Gem BU DMPL Cameo ...       0   \n",
       "\n",
       "                                             text_ru  \n",
       "0  Разыгрываю бесплатный музыкальный набор Dren D...  \n",
       "1    Информационный бюллетень ID Fire Parker Ridg...  \n",
       "2  Обновление из отпуска: моя двоюродная бабушка ...  \n",
       "3  \"Вспышка и гром\" от WC Quick на Amazon Kindle ...  \n",
       "4  Морган Серебряный доллар 1880-х годов Драгоцен...  "
      ]
     },
     "execution_count": 94,
     "metadata": {},
     "output_type": "execute_result"
    }
   ],
   "source": [
    "batch_size = 50\n",
    "list_of_dataframes = []\n",
    "for g, x in df_1000.groupby(np.arange(len(df_1000)) // batch_size):\n",
    "    print(f'{g+1} of {df_1000.shape[0] // batch_size + (1 if df_1000.shape[0] % batch_size != 0 else 0)}')\n",
    "    texts = x['text'].to_list()\n",
    "    translated = yandex_translate(texts)\n",
    "    x['text_ru'] = translated\n",
    "\n",
    "    list_of_dataframes.append(x)\n",
    "\n",
    "df_ru = pd.concat(list_of_dataframes)\n",
    "df_ru.to_csv('../data/dataset_1000_ru.csv')\n",
    "\n",
    "print(df_ru.shape)\n",
    "df_ru.head()"
   ]
  },
  {
   "cell_type": "markdown",
   "metadata": {},
   "source": [
    "# Генерируем аудиофайлы"
   ]
  },
  {
   "cell_type": "code",
   "execution_count": 102,
   "metadata": {},
   "outputs": [],
   "source": [
    "def yandex_tts(text: str, lang: str = 'ru-RU', voice: str = 'alena', format: str = 'mp3') -> bytes:\n",
    "    url = f\"https://tts.api.cloud.yandex.net/speech/v1/tts:synthesize?text={text}&lang={lang}&voice={voice}&format={format}\"\n",
    "    payload = {}\n",
    "    headers = {\n",
    "        'Authorization': f'Api-Key {apikey}',\n",
    "    }\n",
    "    response = requests.request(\"POST\", url, headers=headers, data=payload)\n",
    "    return response.content\n"
   ]
  },
  {
   "cell_type": "code",
   "execution_count": 115,
   "metadata": {},
   "outputs": [
    {
     "name": "stderr",
     "output_type": "stream",
     "text": [
      "100%|██████████| 1000/1000 [05:49<00:00,  2.86it/s]\n"
     ]
    }
   ],
   "source": [
    "tqdm.pandas()\n",
    "\n",
    "def apply_fn(row):\n",
    "    filename = f'{row.name}.mp3'\n",
    "    with open(f'../data/speech/{filename}', 'wb') as f:\n",
    "        f.write(yandex_tts(row['text_ru']))\n",
    "\n",
    "    return filename\n",
    "\n",
    "df_ru['speech_fn'] = df_ru.progress_apply(apply_fn, axis=1)"
   ]
  },
  {
   "cell_type": "code",
   "execution_count": 116,
   "metadata": {},
   "outputs": [],
   "source": [
    "df_ru.to_csv('../data/dataset_1000_ru.csv')"
   ]
  },
  {
   "cell_type": "markdown",
   "metadata": {},
   "source": [
    "# Разделение на train -  test - valid"
   ]
  },
  {
   "cell_type": "code",
   "execution_count": 4,
   "metadata": {},
   "outputs": [],
   "source": [
    "df_ru = pd.read_csv('../data/dataset_1000_ru.csv')"
   ]
  },
  {
   "cell_type": "code",
   "execution_count": 5,
   "metadata": {},
   "outputs": [],
   "source": [
    "X_train, X_validtest, y_train, y_validtest = train_test_split(df_ru, df_ru.target, test_size=0.4, random_state=42, stratify=df_ru.target)"
   ]
  },
  {
   "cell_type": "code",
   "execution_count": 6,
   "metadata": {},
   "outputs": [],
   "source": [
    "X_valid, X_test, y_valid, y_test = train_test_split(X_validtest, X_validtest.target, test_size=0.5, random_state=42, stratify=X_validtest.target)"
   ]
  },
  {
   "cell_type": "code",
   "execution_count": 7,
   "metadata": {},
   "outputs": [
    {
     "data": {
      "text/plain": [
       "(600, 5)"
      ]
     },
     "execution_count": 7,
     "metadata": {},
     "output_type": "execute_result"
    }
   ],
   "source": [
    "X_train.shape"
   ]
  },
  {
   "cell_type": "code",
   "execution_count": 8,
   "metadata": {},
   "outputs": [
    {
     "data": {
      "text/plain": [
       "(200, 5)"
      ]
     },
     "execution_count": 8,
     "metadata": {},
     "output_type": "execute_result"
    }
   ],
   "source": [
    "X_valid.shape"
   ]
  },
  {
   "cell_type": "code",
   "execution_count": 9,
   "metadata": {},
   "outputs": [
    {
     "data": {
      "text/plain": [
       "(200, 5)"
      ]
     },
     "execution_count": 9,
     "metadata": {},
     "output_type": "execute_result"
    }
   ],
   "source": [
    "X_test.shape"
   ]
  },
  {
   "cell_type": "code",
   "execution_count": 10,
   "metadata": {},
   "outputs": [],
   "source": [
    "X_train.to_csv('../data/train.csv')\n",
    "X_valid.to_csv('../data/valid.csv')\n",
    "X_test.to_csv('../data/test.csv')"
   ]
  },
  {
   "cell_type": "code",
   "execution_count": null,
   "metadata": {},
   "outputs": [],
   "source": []
  }
 ],
 "metadata": {
  "kernelspec": {
   "display_name": "venv",
   "language": "python",
   "name": "python3"
  },
  "language_info": {
   "codemirror_mode": {
    "name": "ipython",
    "version": 3
   },
   "file_extension": ".py",
   "mimetype": "text/x-python",
   "name": "python",
   "nbconvert_exporter": "python",
   "pygments_lexer": "ipython3",
   "version": "3.11.4"
  }
 },
 "nbformat": 4,
 "nbformat_minor": 2
}
