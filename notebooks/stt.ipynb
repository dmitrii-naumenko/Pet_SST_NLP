{
 "cells": [
  {
   "cell_type": "code",
   "execution_count": 60,
   "metadata": {},
   "outputs": [],
   "source": [
    "from os import path\n",
    "import io\n",
    "import os\n",
    "\n",
    "import pandas as pd\n",
    "from pydub import AudioSegment\n",
    "import requests\n",
    "from tqdm.auto import tqdm\n",
    "from nltk.translate.bleu_score import sentence_bleu"
   ]
  },
  {
   "cell_type": "markdown",
   "metadata": {},
   "source": [
    "# Чтение файлов"
   ]
  },
  {
   "cell_type": "code",
   "execution_count": 57,
   "metadata": {},
   "outputs": [],
   "source": [
    "df_valid = pd.read_csv('../data/valid.csv')\n",
    "df_train = pd.read_csv('../data/train.csv')"
   ]
  },
  {
   "cell_type": "markdown",
   "metadata": {},
   "source": [
    "# Yandex Cloud STT"
   ]
  },
  {
   "cell_type": "code",
   "execution_count": 4,
   "metadata": {},
   "outputs": [],
   "source": [
    "# brew install ffmpeg\n",
    "\n",
    "import sys\n",
    "sys.path.append('/path/to/ffmpeg')"
   ]
  },
  {
   "cell_type": "code",
   "execution_count": 55,
   "metadata": {},
   "outputs": [],
   "source": [
    "with open('../secrets/yandex-traslate-apikey.txt', 'r') as file:\n",
    "    apikey = file.read().replace('\\n', '')\n",
    "    \n",
    "def yandex_stt(filename: str, lang:str = 'ru-RU', sampleRateHertz: int = 8000) -> str:\n",
    "\n",
    "    fn = f'../data/speech/{filename}'\n",
    "    if os.path.getsize(fn) < 500:\n",
    "        return ''\n",
    "    \n",
    "    url = f\"https://stt.api.cloud.yandex.net/speech/v1/stt:recognize?lang={lang}&format=lpcm&sampleRateHertz={sampleRateHertz}\"\n",
    "\n",
    "    sound = AudioSegment.from_mp3(fn)\n",
    "    sound = sound.set_frame_rate(sampleRateHertz)\n",
    "    buffer = io.BytesIO()\n",
    "    sound.export(buffer, format='wav')\n",
    "    files = {'file': buffer.read()[:1_000_000]}\n",
    "\n",
    "    headers = {\n",
    "        'Authorization': f'Api-Key {apikey}',\n",
    "    }\n",
    "    response = requests.request(\"POST\", url, headers=headers, files=files)\n",
    "    return response.json()['result']\n"
   ]
  },
  {
   "cell_type": "code",
   "execution_count": 59,
   "metadata": {},
   "outputs": [
    {
     "name": "stderr",
     "output_type": "stream",
     "text": [
      "100%|██████████| 200/200 [02:50<00:00,  1.17it/s]\n"
     ]
    }
   ],
   "source": [
    "tqdm.pandas()\n",
    "\n",
    "def apply_fn(speech_fn):\n",
    "    return yandex_stt(speech_fn)\n",
    "\n",
    "df_valid['yandex_tts'] = df_valid['speech_fn'].progress_apply(apply_fn)\n",
    "df_valid.to_csv('../data/yandex_tts_valid.csv')"
   ]
  },
  {
   "cell_type": "code",
   "execution_count": 73,
   "metadata": {},
   "outputs": [
    {
     "data": {
      "text/plain": [
       "0.6407131801825868"
      ]
     },
     "execution_count": 73,
     "metadata": {},
     "output_type": "execute_result"
    }
   ],
   "source": [
    "df_valid.apply(lambda row: sentence_bleu([row['text_ru']],row['yandex_tts']), axis=1).mean()\n"
   ]
  },
  {
   "cell_type": "code",
   "execution_count": null,
   "metadata": {},
   "outputs": [],
   "source": []
  }
 ],
 "metadata": {
  "kernelspec": {
   "display_name": "venv",
   "language": "python",
   "name": "python3"
  },
  "language_info": {
   "codemirror_mode": {
    "name": "ipython",
    "version": 3
   },
   "file_extension": ".py",
   "mimetype": "text/x-python",
   "name": "python",
   "nbconvert_exporter": "python",
   "pygments_lexer": "ipython3",
   "version": "3.11.4"
  }
 },
 "nbformat": 4,
 "nbformat_minor": 2
}
